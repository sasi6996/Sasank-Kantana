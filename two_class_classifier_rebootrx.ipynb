{
  "nbformat": 4,
  "nbformat_minor": 0,
  "metadata": {
    "colab": {
      "name": "two_class_classifier_rebootrx.ipynb",
      "provenance": [],
      "include_colab_link": true
    },
    "kernelspec": {
      "display_name": "Python 3",
      "language": "python",
      "name": "python3"
    },
    "language_info": {
      "codemirror_mode": {
        "name": "ipython",
        "version": 3
      },
      "file_extension": ".py",
      "mimetype": "text/x-python",
      "name": "python",
      "nbconvert_exporter": "python",
      "pygments_lexer": "ipython3",
      "version": "3.7.7"
    }
  },
  "cells": [
    {
      "cell_type": "markdown",
      "metadata": {
        "id": "view-in-github",
        "colab_type": "text"
      },
      "source": [
        "<a href=\"https://colab.research.google.com/github/sasi6996/Sasank-Kantana/blob/master/two_class_classifier_rebootrx.ipynb\" target=\"_parent\"><img src=\"https://colab.research.google.com/assets/colab-badge.svg\" alt=\"Open In Colab\"/></a>"
      ]
    },
    {
      "cell_type": "markdown",
      "metadata": {
        "id": "Nohzt8vkZOVQ"
      },
      "source": [
        "### Two Class Classifier - RebootRx Dataset"
      ]
    },
    {
      "cell_type": "markdown",
      "metadata": {
        "id": "wEy4pko6Zdaz"
      },
      "source": [
        "**Libraries Required:**\n",
        "\n",
        "The following are the Libraries and packages required for pre-processing the dataset and building a text classifier"
      ]
    },
    {
      "cell_type": "code",
      "metadata": {
        "id": "jgk_M0XfZ0jU"
      },
      "source": [
        "import numpy as np\n",
        "import pandas as pd\n",
        "import nltk\n",
        "import re\n",
        "from google.colab import drive\n",
        "from bs4 import BeautifulSoup\n",
        "from nltk.corpus import stopwords\n",
        "from nltk.tokenize import word_tokenize\n",
        "from wordcloud import WordCloud\n",
        "import matplotlib.pyplot as plt\n",
        "from sklearn.preprocessing import LabelEncoder\n",
        "from sklearn.model_selection import train_test_split\n",
        "from sklearn.feature_extraction.text import CountVectorizer, TfidfVectorizer\n",
        "from sklearn.metrics import accuracy_score, classification_report \n",
        "from sklearn.feature_extraction.text import TfidfTransformer\n",
        "from sklearn.feature_extraction.text import TfidfVectorizer"
      ],
      "execution_count": 2,
      "outputs": []
    },
    {
      "cell_type": "markdown",
      "metadata": {
        "id": "x0aQ4DiDvnxV"
      },
      "source": [
        "### Importing Dataset\n",
        "\n",
        "The Dataset is in the format of excel sheet which contains two tabs - Train Data & Test Data"
      ]
    },
    {
      "cell_type": "code",
      "metadata": {
        "colab": {
          "base_uri": "https://localhost:8080/"
        },
        "id": "psFHUx62v51P",
        "outputId": "59cea663-5484-42e5-e046-b39fc065378c"
      },
      "source": [
        "#Accessing the data file from Google drive\n",
        "drive.mount('/content/gdrive')"
      ],
      "execution_count": 3,
      "outputs": [
        {
          "output_type": "stream",
          "text": [
            "Mounted at /content/gdrive\n"
          ],
          "name": "stdout"
        }
      ]
    },
    {
      "cell_type": "code",
      "metadata": {
        "id": "VHyzKLKeVESc"
      },
      "source": [
        "#converting the dataset which is an excel sheet into a Pandas DataFrame\n",
        "train_data=pd.read_excel(\"/content/gdrive/My Drive/Rebootrx_ML_test.xlsx\", sheet_name = 'train')     # Replace the path with the location of excel file your google drive"
      ],
      "execution_count": 7,
      "outputs": []
    },
    {
      "cell_type": "markdown",
      "metadata": {
        "id": "uFqeyXc0f0RM"
      },
      "source": [
        "### Data Preprocessing\n",
        "\n"
      ]
    },
    {
      "cell_type": "code",
      "metadata": {
        "colab": {
          "base_uri": "https://localhost:8080/",
          "height": 204
        },
        "id": "xEFzMbuRYUdQ",
        "outputId": "3b16d13a-feae-4717-84ec-9ba177639400"
      },
      "source": [
        "#Displaying the Dataset as Pandas Dataframe\n",
        "display(train_data.head())"
      ],
      "execution_count": 8,
      "outputs": [
        {
          "output_type": "display_data",
          "data": {
            "text/html": [
              "<div>\n",
              "<style scoped>\n",
              "    .dataframe tbody tr th:only-of-type {\n",
              "        vertical-align: middle;\n",
              "    }\n",
              "\n",
              "    .dataframe tbody tr th {\n",
              "        vertical-align: top;\n",
              "    }\n",
              "\n",
              "    .dataframe thead th {\n",
              "        text-align: right;\n",
              "    }\n",
              "</style>\n",
              "<table border=\"1\" class=\"dataframe\">\n",
              "  <thead>\n",
              "    <tr style=\"text-align: right;\">\n",
              "      <th></th>\n",
              "      <th>pmid</th>\n",
              "      <th>drug</th>\n",
              "      <th>title</th>\n",
              "      <th>abstract</th>\n",
              "      <th>label</th>\n",
              "    </tr>\n",
              "  </thead>\n",
              "  <tbody>\n",
              "    <tr>\n",
              "      <th>0</th>\n",
              "      <td>200767</td>\n",
              "      <td>Prednisone</td>\n",
              "      <td>Hepatoma in a child with methotrexate-induced ...</td>\n",
              "      <td>During autopsy, an 11-year-old girl with acute...</td>\n",
              "      <td>Exclude</td>\n",
              "    </tr>\n",
              "    <tr>\n",
              "      <th>1</th>\n",
              "      <td>227055</td>\n",
              "      <td>Streptozocin</td>\n",
              "      <td>Hazards of hepatic artery infusion of streptoz...</td>\n",
              "      <td>Three patients with metastatic malignancy rece...</td>\n",
              "      <td>Exclude</td>\n",
              "    </tr>\n",
              "    <tr>\n",
              "      <th>2</th>\n",
              "      <td>1058041</td>\n",
              "      <td>Prednisone</td>\n",
              "      <td>Cytogenetic studies in a patient with acute gr...</td>\n",
              "      <td>During a 7 1/2-yr period we monitored a chromo...</td>\n",
              "      <td>Exclude</td>\n",
              "    </tr>\n",
              "    <tr>\n",
              "      <th>3</th>\n",
              "      <td>1312301</td>\n",
              "      <td>alpha 1-proteinase</td>\n",
              "      <td>Increased levels of plasma thrombomodulin in c...</td>\n",
              "      <td>Circulating blood plasma contains proteinase-d...</td>\n",
              "      <td>Exclude</td>\n",
              "    </tr>\n",
              "    <tr>\n",
              "      <th>4</th>\n",
              "      <td>1362746</td>\n",
              "      <td>cefotetan</td>\n",
              "      <td>Single-dose amoxycillin-clavulanic acid vs. ce...</td>\n",
              "      <td>A prospective, multicentre, randomized trial w...</td>\n",
              "      <td>Exclude</td>\n",
              "    </tr>\n",
              "  </tbody>\n",
              "</table>\n",
              "</div>"
            ],
            "text/plain": [
              "      pmid  ...    label\n",
              "0   200767  ...  Exclude\n",
              "1   227055  ...  Exclude\n",
              "2  1058041  ...  Exclude\n",
              "3  1312301  ...  Exclude\n",
              "4  1362746  ...  Exclude\n",
              "\n",
              "[5 rows x 5 columns]"
            ]
          },
          "metadata": {
            "tags": []
          }
        }
      ]
    },
    {
      "cell_type": "markdown",
      "metadata": {
        "id": "wPG86IXviVMr"
      },
      "source": [
        "### Missing Values\n",
        "\n",
        "We shall identify the missing values in each column of the dataset"
      ]
    },
    {
      "cell_type": "code",
      "metadata": {
        "colab": {
          "base_uri": "https://localhost:8080/"
        },
        "id": "IJm9v8SR5m_z",
        "outputId": "59e28b4e-a389-43bd-dba4-d33591e0c9e8"
      },
      "source": [
        "# function to replace and represent the missing values with 0\n",
        "train_data = train_data.replace(0, np.NaN)\n",
        "\n",
        "print(train_data.isnull().sum())"
      ],
      "execution_count": 9,
      "outputs": [
        {
          "output_type": "stream",
          "text": [
            "pmid         0\n",
            "drug        90\n",
            "title        0\n",
            "abstract     0\n",
            "label        0\n",
            "dtype: int64\n"
          ],
          "name": "stdout"
        }
      ]
    },
    {
      "cell_type": "markdown",
      "metadata": {
        "id": "U6_P3SgRitPZ"
      },
      "source": [
        "We can observes that in the column 'drug' we have 90 missing values and all we do not have any missing values in any other "
      ]
    },
    {
      "cell_type": "code",
      "metadata": {
        "colab": {
          "base_uri": "https://localhost:8080/",
          "height": 419
        },
        "id": "sK1ITeEl6Ajs",
        "outputId": "b12dfe5b-5040-427c-ebf1-50a3db717d00"
      },
      "source": [
        "#function to replace missing vales with NaN\n",
        "train_data.fillna(train_data.mean(), inplace = True)\n",
        "train_data.loc[train_data['drug'].isnull()]               "
      ],
      "execution_count": 10,
      "outputs": [
        {
          "output_type": "execute_result",
          "data": {
            "text/html": [
              "<div>\n",
              "<style scoped>\n",
              "    .dataframe tbody tr th:only-of-type {\n",
              "        vertical-align: middle;\n",
              "    }\n",
              "\n",
              "    .dataframe tbody tr th {\n",
              "        vertical-align: top;\n",
              "    }\n",
              "\n",
              "    .dataframe thead th {\n",
              "        text-align: right;\n",
              "    }\n",
              "</style>\n",
              "<table border=\"1\" class=\"dataframe\">\n",
              "  <thead>\n",
              "    <tr style=\"text-align: right;\">\n",
              "      <th></th>\n",
              "      <th>pmid</th>\n",
              "      <th>drug</th>\n",
              "      <th>title</th>\n",
              "      <th>abstract</th>\n",
              "      <th>label</th>\n",
              "    </tr>\n",
              "  </thead>\n",
              "  <tbody>\n",
              "    <tr>\n",
              "      <th>510</th>\n",
              "      <td>15687</td>\n",
              "      <td>NaN</td>\n",
              "      <td>[Adrenergic component in the hepatotropic, car...</td>\n",
              "      <td>The effect of norepinephine, an adrenomietic d...</td>\n",
              "      <td>Exclude</td>\n",
              "    </tr>\n",
              "    <tr>\n",
              "      <th>511</th>\n",
              "      <td>170818</td>\n",
              "      <td>NaN</td>\n",
              "      <td>Cytopathological effects of estradiol on the a...</td>\n",
              "      <td>Large subcutaneous doses (2 mg/21 days) of est...</td>\n",
              "      <td>Exclude</td>\n",
              "    </tr>\n",
              "    <tr>\n",
              "      <th>512</th>\n",
              "      <td>199903</td>\n",
              "      <td>NaN</td>\n",
              "      <td>[Influence of methylcobalamin and cyanocobalam...</td>\n",
              "      <td>The effect of methylcobalamine (5.6-dimethylbe...</td>\n",
              "      <td>Exclude</td>\n",
              "    </tr>\n",
              "    <tr>\n",
              "      <th>513</th>\n",
              "      <td>205183</td>\n",
              "      <td>NaN</td>\n",
              "      <td>Endometrial carcinoma following estrogen thera...</td>\n",
              "      <td>Three patients with metastatic breast cancer r...</td>\n",
              "      <td>Exclude</td>\n",
              "    </tr>\n",
              "    <tr>\n",
              "      <th>514</th>\n",
              "      <td>280716</td>\n",
              "      <td>NaN</td>\n",
              "      <td>Enhancement of rat hepatocellular-altered foci...</td>\n",
              "      <td>Altered foci resistant to iron accumulation we...</td>\n",
              "      <td>Exclude</td>\n",
              "    </tr>\n",
              "    <tr>\n",
              "      <th>...</th>\n",
              "      <td>...</td>\n",
              "      <td>...</td>\n",
              "      <td>...</td>\n",
              "      <td>...</td>\n",
              "      <td>...</td>\n",
              "    </tr>\n",
              "    <tr>\n",
              "      <th>969</th>\n",
              "      <td>30827998</td>\n",
              "      <td>NaN</td>\n",
              "      <td>Potential Anticancer Activity of Auranofin.</td>\n",
              "      <td>Gold compounds have a long history of use in m...</td>\n",
              "      <td>Exclude</td>\n",
              "    </tr>\n",
              "    <tr>\n",
              "      <th>976</th>\n",
              "      <td>30880819</td>\n",
              "      <td>NaN</td>\n",
              "      <td>CAR T-Cell Therapy: Update on the State of the...</td>\n",
              "      <td>BACKGROUND: Chimeric antigen receptor (CAR) T-...</td>\n",
              "      <td>Exclude</td>\n",
              "    </tr>\n",
              "    <tr>\n",
              "      <th>980</th>\n",
              "      <td>31013012</td>\n",
              "      <td>NaN</td>\n",
              "      <td>Treatment of Psoriasis With Biologics and Apre...</td>\n",
              "      <td>NTRODUCTION: Biologics have transformed the ma...</td>\n",
              "      <td>Exclude</td>\n",
              "    </tr>\n",
              "    <tr>\n",
              "      <th>984</th>\n",
              "      <td>31030325</td>\n",
              "      <td>NaN</td>\n",
              "      <td>Allantoin reduces cell death induced by cispla...</td>\n",
              "      <td>Massive lysis of tumor mass in cancer patients...</td>\n",
              "      <td>Exclude</td>\n",
              "    </tr>\n",
              "    <tr>\n",
              "      <th>988</th>\n",
              "      <td>31109259</td>\n",
              "      <td>NaN</td>\n",
              "      <td>High density lipoprotein coated calcium carbon...</td>\n",
              "      <td>Satisfactory chemotherapy of breast cancer rem...</td>\n",
              "      <td>Exclude</td>\n",
              "    </tr>\n",
              "  </tbody>\n",
              "</table>\n",
              "<p>90 rows × 5 columns</p>\n",
              "</div>"
            ],
            "text/plain": [
              "         pmid drug  ...                                           abstract    label\n",
              "510     15687  NaN  ...  The effect of norepinephine, an adrenomietic d...  Exclude\n",
              "511    170818  NaN  ...  Large subcutaneous doses (2 mg/21 days) of est...  Exclude\n",
              "512    199903  NaN  ...  The effect of methylcobalamine (5.6-dimethylbe...  Exclude\n",
              "513    205183  NaN  ...  Three patients with metastatic breast cancer r...  Exclude\n",
              "514    280716  NaN  ...  Altered foci resistant to iron accumulation we...  Exclude\n",
              "..        ...  ...  ...                                                ...      ...\n",
              "969  30827998  NaN  ...  Gold compounds have a long history of use in m...  Exclude\n",
              "976  30880819  NaN  ...  BACKGROUND: Chimeric antigen receptor (CAR) T-...  Exclude\n",
              "980  31013012  NaN  ...  NTRODUCTION: Biologics have transformed the ma...  Exclude\n",
              "984  31030325  NaN  ...  Massive lysis of tumor mass in cancer patients...  Exclude\n",
              "988  31109259  NaN  ...  Satisfactory chemotherapy of breast cancer rem...  Exclude\n",
              "\n",
              "[90 rows x 5 columns]"
            ]
          },
          "metadata": {
            "tags": []
          },
          "execution_count": 10
        }
      ]
    },
    {
      "cell_type": "code",
      "metadata": {
        "id": "s-VTUoAXcfd5"
      },
      "source": [
        "test_data = pd.read_excel('/content/gdrive/My Drive/Rebootrx_ML_test.xlsx', sheet_name='test')"
      ],
      "execution_count": 13,
      "outputs": []
    },
    {
      "cell_type": "markdown",
      "metadata": {
        "id": "sbOFefC8vnxY"
      },
      "source": [
        "### Label Encoding\n",
        "\n",
        "Here we are going to label the categories 'Exclude' and 'Include' in the label column using category codes approach. By default, a non-numerical column(label) is of 'object' type. So, we should chance the type of 'category' before labelling"
      ]
    },
    {
      "cell_type": "code",
      "metadata": {
        "colab": {
          "base_uri": "https://localhost:8080/",
          "height": 221
        },
        "id": "3CBg4a7_iarg",
        "outputId": "ad5c3b3d-199e-4e34-a031-b084bd3180cc"
      },
      "source": [
        "# Let's encode the two different classes in the column label in Training Data\n",
        "from sklearn.preprocessing import LabelEncoder\n",
        "\n",
        "#converting type of columns to 'category'\n",
        "labels = train_data['label']\n",
        "train_data['label'] = train_data['label'].astype('category') \n",
        "\n",
        "# Assigning numerical values and replacing the categorical values of the column with labels\n",
        "train_data['label'] = train_data['label'].cat.codes\n",
        "display(train_data['label'])"
      ],
      "execution_count": 14,
      "outputs": [
        {
          "output_type": "display_data",
          "data": {
            "text/plain": [
              "0      0\n",
              "1      0\n",
              "2      0\n",
              "3      0\n",
              "4      0\n",
              "      ..\n",
              "992    1\n",
              "993    1\n",
              "994    1\n",
              "995    1\n",
              "996    1\n",
              "Name: label, Length: 997, dtype: int8"
            ]
          },
          "metadata": {
            "tags": []
          }
        }
      ]
    },
    {
      "cell_type": "code",
      "metadata": {
        "colab": {
          "base_uri": "https://localhost:8080/",
          "height": 306
        },
        "id": "dJJheVaUvnxY",
        "outputId": "f8d60e68-cb19-4c8e-8d3c-9deb0c3f2d16"
      },
      "source": [
        "# Label encoding for the classes in the Test Data\n",
        "test_data['label'] = test_data['label'].astype('category')\n",
        "\n",
        "# converting type of column to category\n",
        "test_data['label'] = test_data['label'].cat.codes\n",
        "display(test_data['label'].head())\n",
        "\n",
        "# Assigning numerical values and replacing the categorical values\n",
        "df2 = test_data[['title','abstract', 'label']]\n",
        "df2.head()"
      ],
      "execution_count": 15,
      "outputs": [
        {
          "output_type": "display_data",
          "data": {
            "text/plain": [
              "0    0\n",
              "1    0\n",
              "2    0\n",
              "3    0\n",
              "4    0\n",
              "Name: label, dtype: int8"
            ]
          },
          "metadata": {
            "tags": []
          }
        },
        {
          "output_type": "execute_result",
          "data": {
            "text/html": [
              "<div>\n",
              "<style scoped>\n",
              "    .dataframe tbody tr th:only-of-type {\n",
              "        vertical-align: middle;\n",
              "    }\n",
              "\n",
              "    .dataframe tbody tr th {\n",
              "        vertical-align: top;\n",
              "    }\n",
              "\n",
              "    .dataframe thead th {\n",
              "        text-align: right;\n",
              "    }\n",
              "</style>\n",
              "<table border=\"1\" class=\"dataframe\">\n",
              "  <thead>\n",
              "    <tr style=\"text-align: right;\">\n",
              "      <th></th>\n",
              "      <th>title</th>\n",
              "      <th>abstract</th>\n",
              "      <th>label</th>\n",
              "    </tr>\n",
              "  </thead>\n",
              "  <tbody>\n",
              "    <tr>\n",
              "      <th>0</th>\n",
              "      <td>Antihemophilic factor [factor VIII] preparatio...</td>\n",
              "      <td>To examine the role of antihemophilic factor (...</td>\n",
              "      <td>0</td>\n",
              "    </tr>\n",
              "    <tr>\n",
              "      <th>1</th>\n",
              "      <td>Systemic perioperative prophylaxis in elective...</td>\n",
              "      <td>A prospective randomized study was performed w...</td>\n",
              "      <td>0</td>\n",
              "    </tr>\n",
              "    <tr>\n",
              "      <th>2</th>\n",
              "      <td>Enzymatically active cathepsin B dissociating ...</td>\n",
              "      <td>Using fluorogenic substrates and the specific ...</td>\n",
              "      <td>0</td>\n",
              "    </tr>\n",
              "    <tr>\n",
              "      <th>3</th>\n",
              "      <td>Neutrophil elastase alpha 1-proteinase inhibit...</td>\n",
              "      <td>Polymorphonuclear (PMN) granulocyte derived ne...</td>\n",
              "      <td>0</td>\n",
              "    </tr>\n",
              "    <tr>\n",
              "      <th>4</th>\n",
              "      <td>Comparison of intramuscular dezocine with buto...</td>\n",
              "      <td>Sixty hospitalized subjects with chronic moder...</td>\n",
              "      <td>0</td>\n",
              "    </tr>\n",
              "  </tbody>\n",
              "</table>\n",
              "</div>"
            ],
            "text/plain": [
              "                                               title  ... label\n",
              "0  Antihemophilic factor [factor VIII] preparatio...  ...     0\n",
              "1  Systemic perioperative prophylaxis in elective...  ...     0\n",
              "2  Enzymatically active cathepsin B dissociating ...  ...     0\n",
              "3  Neutrophil elastase alpha 1-proteinase inhibit...  ...     0\n",
              "4  Comparison of intramuscular dezocine with buto...  ...     0\n",
              "\n",
              "[5 rows x 3 columns]"
            ]
          },
          "metadata": {
            "tags": []
          },
          "execution_count": 15
        }
      ]
    },
    {
      "cell_type": "code",
      "metadata": {
        "colab": {
          "base_uri": "https://localhost:8080/",
          "height": 204
        },
        "id": "TasAzJG7kfFb",
        "outputId": "cb8f65a5-65dc-4c6c-910f-f5e6be92a695"
      },
      "source": [
        "display(train_data.head())"
      ],
      "execution_count": 16,
      "outputs": [
        {
          "output_type": "display_data",
          "data": {
            "text/html": [
              "<div>\n",
              "<style scoped>\n",
              "    .dataframe tbody tr th:only-of-type {\n",
              "        vertical-align: middle;\n",
              "    }\n",
              "\n",
              "    .dataframe tbody tr th {\n",
              "        vertical-align: top;\n",
              "    }\n",
              "\n",
              "    .dataframe thead th {\n",
              "        text-align: right;\n",
              "    }\n",
              "</style>\n",
              "<table border=\"1\" class=\"dataframe\">\n",
              "  <thead>\n",
              "    <tr style=\"text-align: right;\">\n",
              "      <th></th>\n",
              "      <th>pmid</th>\n",
              "      <th>drug</th>\n",
              "      <th>title</th>\n",
              "      <th>abstract</th>\n",
              "      <th>label</th>\n",
              "    </tr>\n",
              "  </thead>\n",
              "  <tbody>\n",
              "    <tr>\n",
              "      <th>0</th>\n",
              "      <td>200767</td>\n",
              "      <td>Prednisone</td>\n",
              "      <td>Hepatoma in a child with methotrexate-induced ...</td>\n",
              "      <td>During autopsy, an 11-year-old girl with acute...</td>\n",
              "      <td>0</td>\n",
              "    </tr>\n",
              "    <tr>\n",
              "      <th>1</th>\n",
              "      <td>227055</td>\n",
              "      <td>Streptozocin</td>\n",
              "      <td>Hazards of hepatic artery infusion of streptoz...</td>\n",
              "      <td>Three patients with metastatic malignancy rece...</td>\n",
              "      <td>0</td>\n",
              "    </tr>\n",
              "    <tr>\n",
              "      <th>2</th>\n",
              "      <td>1058041</td>\n",
              "      <td>Prednisone</td>\n",
              "      <td>Cytogenetic studies in a patient with acute gr...</td>\n",
              "      <td>During a 7 1/2-yr period we monitored a chromo...</td>\n",
              "      <td>0</td>\n",
              "    </tr>\n",
              "    <tr>\n",
              "      <th>3</th>\n",
              "      <td>1312301</td>\n",
              "      <td>alpha 1-proteinase</td>\n",
              "      <td>Increased levels of plasma thrombomodulin in c...</td>\n",
              "      <td>Circulating blood plasma contains proteinase-d...</td>\n",
              "      <td>0</td>\n",
              "    </tr>\n",
              "    <tr>\n",
              "      <th>4</th>\n",
              "      <td>1362746</td>\n",
              "      <td>cefotetan</td>\n",
              "      <td>Single-dose amoxycillin-clavulanic acid vs. ce...</td>\n",
              "      <td>A prospective, multicentre, randomized trial w...</td>\n",
              "      <td>0</td>\n",
              "    </tr>\n",
              "  </tbody>\n",
              "</table>\n",
              "</div>"
            ],
            "text/plain": [
              "      pmid  ... label\n",
              "0   200767  ...     0\n",
              "1   227055  ...     0\n",
              "2  1058041  ...     0\n",
              "3  1312301  ...     0\n",
              "4  1362746  ...     0\n",
              "\n",
              "[5 rows x 5 columns]"
            ]
          },
          "metadata": {
            "tags": []
          }
        }
      ]
    },
    {
      "cell_type": "markdown",
      "metadata": {
        "id": "GevuXZTSvnxZ"
      },
      "source": [
        "The classes 'Exclude' and 'Include' are labeled as 0 and 1"
      ]
    },
    {
      "cell_type": "code",
      "metadata": {
        "colab": {
          "base_uri": "https://localhost:8080/",
          "height": 204
        },
        "id": "LPDB4ra4sba-",
        "outputId": "cd214268-3990-4352-8670-9f2cf332083b"
      },
      "source": [
        "df = train_data[['abstract', 'label']]\n",
        "df.head()"
      ],
      "execution_count": 17,
      "outputs": [
        {
          "output_type": "execute_result",
          "data": {
            "text/html": [
              "<div>\n",
              "<style scoped>\n",
              "    .dataframe tbody tr th:only-of-type {\n",
              "        vertical-align: middle;\n",
              "    }\n",
              "\n",
              "    .dataframe tbody tr th {\n",
              "        vertical-align: top;\n",
              "    }\n",
              "\n",
              "    .dataframe thead th {\n",
              "        text-align: right;\n",
              "    }\n",
              "</style>\n",
              "<table border=\"1\" class=\"dataframe\">\n",
              "  <thead>\n",
              "    <tr style=\"text-align: right;\">\n",
              "      <th></th>\n",
              "      <th>abstract</th>\n",
              "      <th>label</th>\n",
              "    </tr>\n",
              "  </thead>\n",
              "  <tbody>\n",
              "    <tr>\n",
              "      <th>0</th>\n",
              "      <td>During autopsy, an 11-year-old girl with acute...</td>\n",
              "      <td>0</td>\n",
              "    </tr>\n",
              "    <tr>\n",
              "      <th>1</th>\n",
              "      <td>Three patients with metastatic malignancy rece...</td>\n",
              "      <td>0</td>\n",
              "    </tr>\n",
              "    <tr>\n",
              "      <th>2</th>\n",
              "      <td>During a 7 1/2-yr period we monitored a chromo...</td>\n",
              "      <td>0</td>\n",
              "    </tr>\n",
              "    <tr>\n",
              "      <th>3</th>\n",
              "      <td>Circulating blood plasma contains proteinase-d...</td>\n",
              "      <td>0</td>\n",
              "    </tr>\n",
              "    <tr>\n",
              "      <th>4</th>\n",
              "      <td>A prospective, multicentre, randomized trial w...</td>\n",
              "      <td>0</td>\n",
              "    </tr>\n",
              "  </tbody>\n",
              "</table>\n",
              "</div>"
            ],
            "text/plain": [
              "                                            abstract  label\n",
              "0  During autopsy, an 11-year-old girl with acute...      0\n",
              "1  Three patients with metastatic malignancy rece...      0\n",
              "2  During a 7 1/2-yr period we monitored a chromo...      0\n",
              "3  Circulating blood plasma contains proteinase-d...      0\n",
              "4  A prospective, multicentre, randomized trial w...      0"
            ]
          },
          "metadata": {
            "tags": []
          },
          "execution_count": 17
        }
      ]
    },
    {
      "cell_type": "code",
      "metadata": {
        "colab": {
          "base_uri": "https://localhost:8080/",
          "height": 204
        },
        "id": "RV2IcmYTvQr-",
        "outputId": "e5f10411-7559-42bd-8013-549b05ac3b66"
      },
      "source": [
        "display(test_data.head())"
      ],
      "execution_count": 18,
      "outputs": [
        {
          "output_type": "display_data",
          "data": {
            "text/html": [
              "<div>\n",
              "<style scoped>\n",
              "    .dataframe tbody tr th:only-of-type {\n",
              "        vertical-align: middle;\n",
              "    }\n",
              "\n",
              "    .dataframe tbody tr th {\n",
              "        vertical-align: top;\n",
              "    }\n",
              "\n",
              "    .dataframe thead th {\n",
              "        text-align: right;\n",
              "    }\n",
              "</style>\n",
              "<table border=\"1\" class=\"dataframe\">\n",
              "  <thead>\n",
              "    <tr style=\"text-align: right;\">\n",
              "      <th></th>\n",
              "      <th>pmid</th>\n",
              "      <th>drug</th>\n",
              "      <th>title</th>\n",
              "      <th>abstract</th>\n",
              "      <th>label</th>\n",
              "    </tr>\n",
              "  </thead>\n",
              "  <tbody>\n",
              "    <tr>\n",
              "      <th>0</th>\n",
              "      <td>3084691</td>\n",
              "      <td>antihemophilic factor</td>\n",
              "      <td>Antihemophilic factor [factor VIII] preparatio...</td>\n",
              "      <td>To examine the role of antihemophilic factor (...</td>\n",
              "      <td>0</td>\n",
              "    </tr>\n",
              "    <tr>\n",
              "      <th>1</th>\n",
              "      <td>3150952</td>\n",
              "      <td>cefotetan/aztreonam</td>\n",
              "      <td>Systemic perioperative prophylaxis in elective...</td>\n",
              "      <td>A prospective randomized study was performed w...</td>\n",
              "      <td>0</td>\n",
              "    </tr>\n",
              "    <tr>\n",
              "      <th>2</th>\n",
              "      <td>3202966</td>\n",
              "      <td>alpha 1-proteinase</td>\n",
              "      <td>Enzymatically active cathepsin B dissociating ...</td>\n",
              "      <td>Using fluorogenic substrates and the specific ...</td>\n",
              "      <td>0</td>\n",
              "    </tr>\n",
              "    <tr>\n",
              "      <th>3</th>\n",
              "      <td>3260636</td>\n",
              "      <td>alpha 1-proteinase</td>\n",
              "      <td>Neutrophil elastase alpha 1-proteinase inhibit...</td>\n",
              "      <td>Polymorphonuclear (PMN) granulocyte derived ne...</td>\n",
              "      <td>0</td>\n",
              "    </tr>\n",
              "    <tr>\n",
              "      <th>4</th>\n",
              "      <td>3301154</td>\n",
              "      <td>butorphanol</td>\n",
              "      <td>Comparison of intramuscular dezocine with buto...</td>\n",
              "      <td>Sixty hospitalized subjects with chronic moder...</td>\n",
              "      <td>0</td>\n",
              "    </tr>\n",
              "  </tbody>\n",
              "</table>\n",
              "</div>"
            ],
            "text/plain": [
              "      pmid  ... label\n",
              "0  3084691  ...     0\n",
              "1  3150952  ...     0\n",
              "2  3202966  ...     0\n",
              "3  3260636  ...     0\n",
              "4  3301154  ...     0\n",
              "\n",
              "[5 rows x 5 columns]"
            ]
          },
          "metadata": {
            "tags": []
          }
        }
      ]
    },
    {
      "cell_type": "markdown",
      "metadata": {
        "id": "p41i5udtvnxa"
      },
      "source": [
        "### Text Preprocessing"
      ]
    },
    {
      "cell_type": "code",
      "metadata": {
        "colab": {
          "base_uri": "https://localhost:8080/"
        },
        "id": "29bj0sRgvnxa",
        "outputId": "078b43eb-2462-4be1-b4a5-fdd4f0d5792d"
      },
      "source": [
        "# Let is check how many words are present in the data\n",
        "print(df['abstract'].apply(lambda x: len(x.split(' '))).sum())"
      ],
      "execution_count": 19,
      "outputs": [
        {
          "output_type": "stream",
          "text": [
            "230832\n"
          ],
          "name": "stdout"
        }
      ]
    },
    {
      "cell_type": "markdown",
      "metadata": {
        "id": "s9fR4LLsvnxa"
      },
      "source": [
        "We can observe the there are approximately 0.23 million words present in the data."
      ]
    },
    {
      "cell_type": "code",
      "metadata": {
        "colab": {
          "base_uri": "https://localhost:8080/"
        },
        "id": "em5_xaa20_0R",
        "outputId": "a7282723-1a3b-4476-cb5f-ac70e3d93f2b"
      },
      "source": [
        "# function to look at 'abstract' and 'label' pairs\n",
        "def print_plot(index):\n",
        "    example = df[df.index == index][['abstract', 'label']].values[0]\n",
        "    if len(example) > 0:\n",
        "        print(example[0])\n",
        "        print('label:', example[1])\n",
        "print_plot(10)"
      ],
      "execution_count": 51,
      "outputs": [
        {
          "output_type": "stream",
          "text": [
            "ability tumor cells express elevated levels proteinases capable degrading tissue matrix basement membrane components vitro correlated invasive metastatic potential many vitro invasion assays performed either presence serum tumor cells previously grown serum since serum contains large amounts active proteinase inhibitors presence could complicate interpretations therefore attempted measure amounts serine proteinase inhibitors released culture medium two rat mammary adenocarcinoma metastatic variants selected vitro serumindependent growth differing vivo metastatic behavior concentrated spent media csm derived cultures poorly metastatic mtln2 t42d highly metastatic mtln3 t17d tumor cells grown presence absence fetal bovine serum fbs 2024 h compared presence serine proteinase inhibitors capable inactivating alphachymotrypsin results show mtln2 t42d mtln3 t17d tumor cells exposed fbs csm mtln2 t42d exhibited nearly 5fold greater amounts active proteinase inhibitors mtln3 t17d amount proteinase inhibitory activity detected csm tumor cells exposed fbs eliminated declined 82 37 mtln2 t42d mtln3 t17d respectively analysis enzymeinhibitor ei complex formation nonreducing sodium dodecyl sulfatepolyacrylamide gel electrophoresis followed autoradiography confirmed kinetic results revealed major inhibitor present csm fbs variants forms heat sodium dodecyl sulfatestable ei complex apparent molecular weight approximately 79 000 identical formed fbs purified alpha 1proteinase inhibitor incubated alpha125i chymotrypsin ei complexes apparent molecular weights 44 000 50 000 formed csm bovine serum albumin mtln3 t17d mtln2 t42d respectively detected alpha125i chymotrypsin incubated bovine serum albumin infer observations culture poorly metastatic mtln2 t42d tumor cells compared highly metastatic mtln3 t17d counterparts exhibit increased capacity retain subsequently release significantly greater amounts serumderived active proteinase inhibitors moreover detection proteinase activity kinetic analysis ei complexes sodium dodecyl sulfatepolyacrylamide gel electrophoresis autoradiography csm prepared cultures exposed fbs indicates variants capacity produce inhibitors abstract truncated 400 words\n",
            "label: 0\n"
          ],
          "name": "stdout"
        }
      ]
    },
    {
      "cell_type": "markdown",
      "metadata": {
        "id": "FDBZ0KRevnxb"
      },
      "source": [
        "#### It is clearly evident that the data has to be cleaned up. For this we shall perform few text cleaning techniques"
      ]
    },
    {
      "cell_type": "markdown",
      "metadata": {
        "id": "gRdrQSIcvnxb"
      },
      "source": [
        "For this particular data set, our text cleaning step includes HTML decoding, remove stop words, change text to lower case, remove punctuation, remove bad characters, and so on."
      ]
    },
    {
      "cell_type": "code",
      "metadata": {
        "colab": {
          "base_uri": "https://localhost:8080/"
        },
        "id": "jEYyVIt3yRPR",
        "outputId": "a0f23caa-2dca-45a2-b86a-0ae7c7174a56"
      },
      "source": [
        "import re\n",
        "import nltk\n",
        "from bs4 import BeautifulSoup\n",
        "nltk.download('stopwords')\n",
        "from nltk.corpus import stopwords\n",
        "\n",
        "       \n",
        "REPLACE_BY_SPACE_RE = re.compile('[/(){}\\[\\]\\|@,;]')\n",
        "BAD_SYMBOLS_RE = re.compile('[^0-9a-z #+_]')\n",
        "STOPWORDS = set(stopwords.words('english'))\n",
        " \n",
        "\n",
        "def clean_text(text):\n",
        "    \"\"\"\n",
        "        text: a string\n",
        "        \n",
        "        return: modified initial string\n",
        "    \"\"\"\n",
        "    text = BeautifulSoup(text, \"lxml\").text # HTML decoding\n",
        "    text = text.lower() # lowercase text\n",
        "    text = REPLACE_BY_SPACE_RE.sub(' ', text) # replace REPLACE_BY_SPACE_RE symbols by space in text\n",
        "    text = BAD_SYMBOLS_RE.sub('', text) # delete symbols which are in BAD_SYMBOLS_RE from text\n",
        "    text = ' '.join(word for word in text.split() if word not in STOPWORDS) # delete stopwors from text\n",
        "    return text\n",
        "    \n",
        "df['abstract'] = df['abstract'].apply(clean_text)\n",
        "print_plot(10)"
      ],
      "execution_count": 21,
      "outputs": [
        {
          "output_type": "stream",
          "text": [
            "[nltk_data] Downloading package stopwords to /root/nltk_data...\n",
            "[nltk_data]   Unzipping corpora/stopwords.zip.\n",
            "ability tumor cells express elevated levels proteinases capable degrading tissue matrix basement membrane components vitro correlated invasive metastatic potential many vitro invasion assays performed either presence serum tumor cells previously grown serum since serum contains large amounts active proteinase inhibitors presence could complicate interpretations therefore attempted measure amounts serine proteinase inhibitors released culture medium two rat mammary adenocarcinoma metastatic variants selected vitro serumindependent growth differing vivo metastatic behavior concentrated spent media csm derived cultures poorly metastatic mtln2 t42d highly metastatic mtln3 t17d tumor cells grown presence absence fetal bovine serum fbs 2024 h compared presence serine proteinase inhibitors capable inactivating alphachymotrypsin results show mtln2 t42d mtln3 t17d tumor cells exposed fbs csm mtln2 t42d exhibited nearly 5fold greater amounts active proteinase inhibitors mtln3 t17d amount proteinase inhibitory activity detected csm tumor cells exposed fbs eliminated declined 82 37 mtln2 t42d mtln3 t17d respectively analysis enzymeinhibitor ei complex formation nonreducing sodium dodecyl sulfatepolyacrylamide gel electrophoresis followed autoradiography confirmed kinetic results revealed major inhibitor present csm fbs variants forms heat sodium dodecyl sulfatestable ei complex apparent molecular weight approximately 79 000 identical formed fbs purified alpha 1proteinase inhibitor incubated alpha125i chymotrypsin ei complexes apparent molecular weights 44 000 50 000 formed csm bovine serum albumin mtln3 t17d mtln2 t42d respectively detected alpha125i chymotrypsin incubated bovine serum albumin infer observations culture poorly metastatic mtln2 t42d tumor cells compared highly metastatic mtln3 t17d counterparts exhibit increased capacity retain subsequently release significantly greater amounts serumderived active proteinase inhibitors moreover detection proteinase activity kinetic analysis ei complexes sodium dodecyl sulfatepolyacrylamide gel electrophoresis autoradiography csm prepared cultures exposed fbs indicates variants capacity produce inhibitors abstract truncated 400 words\n",
            "label: 0\n"
          ],
          "name": "stdout"
        },
        {
          "output_type": "stream",
          "text": [
            "/usr/local/lib/python3.7/dist-packages/ipykernel_launcher.py:26: SettingWithCopyWarning: \n",
            "A value is trying to be set on a copy of a slice from a DataFrame.\n",
            "Try using .loc[row_indexer,col_indexer] = value instead\n",
            "\n",
            "See the caveats in the documentation: https://pandas.pydata.org/pandas-docs/stable/user_guide/indexing.html#returning-a-view-versus-a-copy\n"
          ],
          "name": "stderr"
        }
      ]
    },
    {
      "cell_type": "markdown",
      "metadata": {
        "id": "Ex12UxHDvnxb"
      },
      "source": [
        "#### Now, we have obtained cleaned abastract data."
      ]
    },
    {
      "cell_type": "code",
      "metadata": {
        "colab": {
          "base_uri": "https://localhost:8080/"
        },
        "id": "GgqNaDIG5akZ",
        "outputId": "0b0eee66-7f3e-4a64-b064-056f9f9e981b"
      },
      "source": [
        "#funtion to check how many words are prersent in data after text cleaning\n",
        "df['abstract'].apply(lambda x: len(x.split(' '))).sum()"
      ],
      "execution_count": 22,
      "outputs": [
        {
          "output_type": "execute_result",
          "data": {
            "text/plain": [
              "154353"
            ]
          },
          "metadata": {
            "tags": []
          },
          "execution_count": 22
        }
      ]
    },
    {
      "cell_type": "markdown",
      "metadata": {
        "id": "DuUbFC_Gvnxc"
      },
      "source": [
        "After Text cleaning, out of 0.23 million words, we have only 0.15 million words only"
      ]
    },
    {
      "cell_type": "code",
      "metadata": {
        "colab": {
          "base_uri": "https://localhost:8080/"
        },
        "id": "yJiFr0jl0c4N",
        "scrolled": true,
        "outputId": "de0ef464-9c07-4d18-c6bf-2eb279e15ee7"
      },
      "source": [
        "print_plot(30)"
      ],
      "execution_count": 23,
      "outputs": [
        {
          "output_type": "stream",
          "text": [
            "mouse cardiotrophin1 ct1 hypertrophyinducing factor cardiac myocytes interacts cell surface receptors incorporate signaling molecule gp130 cytokines utilizing receptor subunit stimulate acutephase protein synthesis tested cardiotrophin1 vitro assays protein synthesis primary rat hepatocytes rat hepatoma cells h35 human hepatoma cells hepg2 ct1 showed dosedependent induction protein synthesis primary rat hepatocytes effective concentrations ranging 01 100 ng ml production number acutephase proteins including alpha 1cysteine proteinase inhibitor alpha 1cpi alpha 1proteinase inhibitor alpha 1pi alpha 2macroglobulin alpha 1acid glycoprotein markedly increased 48 72 h cytokine stimulation rat h35 cells ct1 stimulated alpha 1pi alpha 1cpi protein production upregulated alpha 1cpi mrna levels similar potency compared il6type human cytokines optimal concentrations parallel assays ct1 induced similar levels acutephase proteins human oncostatin om leukemia inhibitory factor lif whereas human il6 induced greatest levels alpha 1cpi alpha 1pi production h35 cells tested human hepg2 cells murine ct1 far less effective stimulated alpha 1antichymotrypsin production high concentrations 100 ng ml alter haptoglobin alpha 1pi human om il6 effective lower concentrations induced much higher levels acutephase protein synthesis whereas lif activity similar ct1 results show murine ct1 strong acutephase mediator rat hepatocytes vitro activity similar lif rat hepatocytes h35 cells hepg2 cells\n",
            "label: 0\n"
          ],
          "name": "stdout"
        }
      ]
    },
    {
      "cell_type": "markdown",
      "metadata": {
        "id": "2SelgJM6vnxc"
      },
      "source": [
        "Let us now get the frequency distribution of words in the text, for this, we shall use 'nltk.FreqDist()' function to get the list of top words used in the text, providing a breif outlook of the main topic in the text data."
      ]
    },
    {
      "cell_type": "code",
      "metadata": {
        "colab": {
          "base_uri": "https://localhost:8080/"
        },
        "id": "uZ1EemdWOzQU",
        "outputId": "db601026-2cd2-40e2-b8bb-73881a9b3931"
      },
      "source": [
        "import nltk\n",
        "nltk.download('punkt')         #Use if the code does'nt recognize the function 'punkt'\n",
        "from nltk.tokenize import word_tokenize\n",
        "\n",
        "abstract = df.abstract.str.cat(sep='')\n",
        "\n",
        "#function to split text into word\n",
        "tokens = word_tokenize(abstract)\n",
        "\n",
        "vocabulary = set(tokens)\n",
        "print(len(vocabulary))\n",
        "\n",
        "frequency_dist = nltk.FreqDist(tokens)\n",
        "bow=sorted(frequency_dist, key = frequency_dist.__getitem__,reverse = True)[0:50]\n",
        "# this gives us the top 50 words used in the text.\n",
        "print(bow)"
      ],
      "execution_count": 24,
      "outputs": [
        {
          "output_type": "stream",
          "text": [
            "[nltk_data] Downloading package punkt to /root/nltk_data...\n",
            "[nltk_data]   Unzipping tokenizers/punkt.zip.\n",
            "18148\n",
            "['patients', 'cancer', 'cells', 'cell', 'treatment', 'tumor', 'study', 'group', 'results', 'effects', 'significantly', 'p', 'effect', 'activity', 'mg', 'growth', '2', '1', 'expression', 'mice', 'vitro', 'human', 'clinical', 'compared', 'drug', 'therapy', 'significant', 'vivo', 'levels', 'used', 'studies', 'survival', 'using', 'methods', 'also', 'may', '3', 'efficacy', 'increased', 'breast', 'use', 'showed', 'potential', 'apoptosis', 'groups', 'kg', 'reduced', 'combination', 'placebo', 'lines']\n"
          ],
          "name": "stdout"
        }
      ]
    },
    {
      "cell_type": "code",
      "metadata": {
        "colab": {
          "base_uri": "https://localhost:8080/"
        },
        "id": "vUEGYpTnolRd",
        "outputId": "1f669889-fd95-4f61-ef6a-0397837e9dc4"
      },
      "source": [
        "nltk.download('stopwords')\n",
        "from nltk.corpus import stopwords\n",
        "stop_words = set(stopwords.words('english'))\n",
        "tokens = [w for w in tokens if not w in stop_words]"
      ],
      "execution_count": 25,
      "outputs": [
        {
          "output_type": "stream",
          "text": [
            "[nltk_data] Downloading package stopwords to /root/nltk_data...\n",
            "[nltk_data]   Package stopwords is already up-to-date!\n"
          ],
          "name": "stdout"
        }
      ]
    },
    {
      "cell_type": "markdown",
      "metadata": {
        "id": "jTExdXUjvnxg"
      },
      "source": [
        "### Visualize the most frequent words in the data using Wordcloud"
      ]
    },
    {
      "cell_type": "code",
      "metadata": {
        "colab": {
          "base_uri": "https://localhost:8080/",
          "height": 198
        },
        "id": "qD5aGHWVqCBc",
        "outputId": "9a108e44-c1a3-420b-e8e0-cd9f5929e23e"
      },
      "source": [
        "from wordcloud import WordCloud\n",
        "import matplotlib.pyplot as plt\n",
        "\n",
        "wordcloud = WordCloud().generate_from_frequencies(frequency_dist)\n",
        "\n",
        "plt.imshow(wordcloud)\n",
        "plt.axis(\"off\")\n",
        "plt.show()"
      ],
      "execution_count": 26,
      "outputs": [
        {
          "output_type": "display_data",
          "data": {
            "image/png": "[encoded data removed]",
            "text/plain": [
              "<Figure size 432x288 with 1 Axes>"
            ]
          },
          "metadata": {
            "tags": [],
            "needs_background": "light"
          }
        }
      ]
    },
    {
      "cell_type": "markdown",
      "metadata": {
        "id": "vAp_dfHJ2QwZ"
      },
      "source": [
        "From the visualization we can grab a gist of most frequent words in the data."
      ]
    },
    {
      "cell_type": "markdown",
      "metadata": {
        "id": "3dqjpRp0vnxh"
      },
      "source": [
        "### Building a Classifier"
      ]
    },
    {
      "cell_type": "markdown",
      "metadata": {
        "id": "ssYQm_FXvnxh"
      },
      "source": [
        "### Splitting Data into Train and Test subsest\n",
        "\n",
        "As the data is cleaned up, we shall now build the classifier to identify the sentiment of each drug whether it shall be included or excluded for the down stream analysis"
      ]
    },
    {
      "cell_type": "code",
      "metadata": {
        "id": "NDQAx-mDq_b3"
      },
      "source": [
        "# Using the data in the train sheet to train the model\n",
        "#as we have 997 rows of data we shall be including all the data for training purpose\n",
        "X_train = train_data.loc[:997, 'abstract'].values\n",
        "y_train = train_data.loc[:997, 'label'].values\n",
        "\n",
        "# Using the data in the test sheet to evaluate the model\n",
        "X_test = test_data.loc[:54, 'abstract'].values\n",
        "y_test = test_data.loc[:54, 'label'].values"
      ],
      "execution_count": 27,
      "outputs": []
    },
    {
      "cell_type": "markdown",
      "metadata": {
        "id": "_TfdRDjhvnxi"
      },
      "source": [
        " Using the Scikit-Learner library, we can make use of few tools to further pre-process the text. We use TfidTransformer to convert the text corpus into feature vectros."
      ]
    },
    {
      "cell_type": "code",
      "metadata": {
        "id": "xiVvgnZjr1i7"
      },
      "source": [
        "from sklearn.feature_extraction.text import TfidfTransformer\n",
        "from sklearn.feature_extraction.text import TfidfVectorizer\n",
        "vectorizer = TfidfVectorizer()\n",
        "train_vectors = vectorizer.fit_transform(X_train) # converting train data words into feature vectors\n",
        "test_vectors = vectorizer.transform(X_test)   # converting the test data words into feature vectors"
      ],
      "execution_count": 28,
      "outputs": []
    },
    {
      "cell_type": "markdown",
      "metadata": {
        "id": "eVUksOzFvnxi"
      },
      "source": [
        "# Training Section\n",
        "Traning and fitting the model with the train data"
      ]
    },
    {
      "cell_type": "code",
      "metadata": {
        "id": "MC0Sfxo7xHrO"
      },
      "source": [
        "from sklearn.linear_model import SGDClassifier\n",
        "\n",
        "sgd = SGDClassifier(loss = 'hinge', alpha = 1e-3, random_state = 42, max_iter=5, tol = None)\n",
        "sgd_clf = sgd.fit(train_vectors, y_train) #function to the fit the model with feature vectors of train data"
      ],
      "execution_count": 31,
      "outputs": []
    },
    {
      "cell_type": "markdown",
      "metadata": {
        "id": "3tS1jjHyx3l4"
      },
      "source": [
        "# Validation Section\n",
        "Validating the test data using evaluation metrics"
      ]
    },
    {
      "cell_type": "code",
      "metadata": {
        "colab": {
          "base_uri": "https://localhost:8080/"
        },
        "id": "_vVzbIHR0X2N",
        "outputId": "96755fec-b2b5-4292-aa5f-26ca34cb3c56"
      },
      "source": [
        "# function to predict the test data \n",
        "sgd_predict = sgd.predict(test_vectors)\n",
        "\n",
        "print('accuracy %s' %accuracy_score(sgd_predict, y_test))\n",
        "print(classification_report(y_test, sgd_predict))"
      ],
      "execution_count": 34,
      "outputs": [
        {
          "output_type": "stream",
          "text": [
            "accuracy 0.8545454545454545\n",
            "              precision    recall  f1-score   support\n",
            "\n",
            "           0       0.82      0.93      0.87        30\n",
            "           1       0.90      0.76      0.83        25\n",
            "\n",
            "    accuracy                           0.85        55\n",
            "   macro avg       0.86      0.85      0.85        55\n",
            "weighted avg       0.86      0.85      0.85        55\n",
            "\n"
          ],
          "name": "stdout"
        }
      ]
    },
    {
      "cell_type": "markdown",
      "metadata": {
        "id": "xq12xFH-yj0n"
      },
      "source": [
        "**The classification report describes that the Linear Support Vector amchine model perfomed with 85% of accuracy.**\n",
        "\n",
        "This is the highest accuracy of all the models where Naive Bayes Multinomial method has given 82% accuracy and Logistic Regression model has given 84% of accuracy which is just 1% less than Linear Support Vector machine model."
      ]
    },
    {
      "cell_type": "markdown",
      "metadata": {
        "id": "A0gN5vhXTcCY"
      },
      "source": [
        "**End of Model**"
      ]
    }
  ]
}